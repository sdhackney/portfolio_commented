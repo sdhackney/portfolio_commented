{
 "cells": [
  {
   "cell_type": "markdown",
   "id": "67f05610",
   "metadata": {},
   "source": [
    "Hello Spencer!\n",
    "\n",
    "My name is Olga. I'm happy to review your project today. \n",
    "\n",
    "When I will see mistake at the first time, I will just point it out. I let you find it and fix it by yourself. I'm trying to prepare you to work as an Data Analyst. SO, at a real job, your team lead will do the same. But if you can't handle this task yet, I will give you a more accurate hint at the next iteration.\n",
    "\n",
    "You will find my comments below - **please do not move, modify or delete them**.\n",
    "\n",
    "You can find my comments in green, yellow or red boxes like this:\n",
    "\n",
    "\n",
    "<div class=\"alert alert-block alert-success\">\n",
    "<b>Reviewer's comment</b> <a class=\"tocSkip\"></a>\n",
    "    \n",
    "Success. Everything is done succesfully.\n",
    "</div>\n",
    "\n",
    "\n",
    "<div class=\"alert alert-block alert-warning\">\n",
    "<b>Reviewer's comment</b> <a class=\"tocSkip\"></a>\n",
    "    \n",
    "Remarks. Some recommendations.\n",
    "</div>\n",
    "\n",
    "\n",
    "<div class=\"alert alert-block alert-danger\">\n",
    "    \n",
    "<b>Reviewer's comment</b> <a class=\"tocSkip\"></a>\n",
    "    \n",
    "    \n",
    "Needs fixing. The block requires some corrections. Work can't be accepted with the red comments.\n",
    "</div>\n",
    "\n",
    "\n",
    "You can answer me by using this: \n",
    "\n",
    "<div class=\"alert alert-block alert-info\">\n",
    "<b>Student answer.</b> <a class=\"tocSkip\"></a>\n",
    "</div>"
   ]
  },
  {
   "cell_type": "markdown",
   "id": "e354942c",
   "metadata": {},
   "source": [
    "<div class=\"alert alert-block alert-success\">\n",
    "<b>Overall reviewer's comment</b> <a class=\"tocSkip\"></a>\n",
    "\n",
    "Hello Spencer! Thank you for sending your project. You've done a really good job on it! You plot a good graphs and write very detailed comments.\n",
    "    \n",
    "<span class=\"text-danger\">There are few things that need to be corrected in your project. They're mostly minor issues that are easy to fix. Could you check my comments? Also, please pay attention that we should use headings in the project. Headings make our work more readable and visually attractive. Do not hesitate to ask your tutor for help, if you have any problems!</span>\n",
    "    \n",
    "    \n",
    "Your project has been accepted and you can go to the next sprint! Congratulations!\n",
    "    \n",
    "Keep up the good work, and good luck on the next sprint! :) \n",
    "    \n",
    "</div>"
   ]
  },
  {
   "cell_type": "markdown",
   "id": "b60d8c49",
   "metadata": {},
   "source": [
    "<div class=\"alert alert-block alert-info\">\n",
    "Hello, my name is Spencer, not sure why you think I am James? Thank you for the review, I'll fix it and get it back to you!\n",
    "</div>"
   ]
  },
  {
   "cell_type": "markdown",
   "id": "a61e4980",
   "metadata": {},
   "source": [
    "<div class=\"alert alert-block alert-warning\">\n",
    "<b>Overall reviewer's comment. V.1.5.</b> <a class=\"tocSkip\"></a>\n",
    "\n",
    "Hello Spencer! I apologize sincerely for mistakenly referring to you by the wrong name in our correspondence. It was completely unintentional and I regret the error. Please accept my apologies for any confusion or inconvenience this may have caused. I changed the name to the correct one in my previous message.\n",
    "    \n",
    "    \n",
    "Please check my comments and add a few changes in your project.\n",
    "    \n",
    "</div>\n",
    "\n",
    "<div class=\"alert alert-block alert-success\">\n",
    "<b>Overall reviewer's comment. V.2.</b> <a class=\"tocSkip\"></a>\n",
    "\n",
    "Hello Spencer! Thank you for your corrections! I added a comment for your conclusion. Hope you will improve it in your next project.\n",
    "    \n",
    "Your project has been accepted and you can go to the next sprint! Congratulations!\n",
    "\n",
    "Keep up the good work, and good luck on the next sprint! :)    \n",
    "</div>"
   ]
  },
  {
   "cell_type": "markdown",
   "id": "1dba6c3d",
   "metadata": {},
   "source": [
    "# Taxi Trip Analysis"
   ]
  },
  {
   "cell_type": "markdown",
   "id": "0975fe9f",
   "metadata": {},
   "source": [
    "### This project analyzes taxi trip data, focusing on identifying the top 10 neighborhoods by drop-off rates and the leading taxi companies by trip volume. It examines company and trip datasets, including rides from the Loop to O'Hare Airport, and hypothesis testing on ride durations. "
   ]
  },
  {
   "cell_type": "markdown",
   "id": "cf381e8b",
   "metadata": {},
   "source": [
    "<div class=\"alert alert-block alert-danger\">\n",
    "<s><b>Reviewer's comment</b> <a class=\"tocSkip\"></a>\n",
    "\n",
    "We should add more details at the beginning.</div>"
   ]
  },
  {
   "cell_type": "markdown",
   "id": "aab08f38",
   "metadata": {},
   "source": [
    "<div class=\"alert alert-block alert-info\">\n",
    "fixed with headings and more detail</div>"
   ]
  },
  {
   "cell_type": "markdown",
   "id": "f9df2f3d",
   "metadata": {},
   "source": [
    "<div class=\"alert alert-block alert-success\">\n",
    "<b>Reviewer's comment. V.2.</b> <a class=\"tocSkip\"></a>\n",
    "\n",
    "Thank you!</div>"
   ]
  },
  {
   "cell_type": "markdown",
   "id": "153916af",
   "metadata": {},
   "source": [
    "## Importing the different libraries I will need to do the analysis with"
   ]
  },
  {
   "cell_type": "code",
   "execution_count": 1,
   "id": "2964015a",
   "metadata": {},
   "outputs": [],
   "source": [
    "import pandas as pd\n",
    "import numpy as np\n",
    "import matplotlib.pyplot as plt\n",
    "from scipy import stats as st"
   ]
  },
  {
   "cell_type": "markdown",
   "id": "b070046e",
   "metadata": {},
   "source": [
    "### company_name"
   ]
  },
  {
   "cell_type": "markdown",
   "id": "c96ffbce",
   "metadata": {},
   "source": [
    "#### contains the company name and the amount of trips they have taken in total"
   ]
  },
  {
   "cell_type": "code",
   "execution_count": 2,
   "id": "20dd21ac",
   "metadata": {},
   "outputs": [],
   "source": [
    "company_name = pd.read_csv('/datasets/project_sql_result_01.csv')\n"
   ]
  },
  {
   "cell_type": "code",
   "execution_count": 3,
   "id": "6e69085a",
   "metadata": {},
   "outputs": [
    {
     "data": {
      "text/html": [
       "<div>\n",
       "<style scoped>\n",
       "    .dataframe tbody tr th:only-of-type {\n",
       "        vertical-align: middle;\n",
       "    }\n",
       "\n",
       "    .dataframe tbody tr th {\n",
       "        vertical-align: top;\n",
       "    }\n",
       "\n",
       "    .dataframe thead th {\n",
       "        text-align: right;\n",
       "    }\n",
       "</style>\n",
       "<table border=\"1\" class=\"dataframe\">\n",
       "  <thead>\n",
       "    <tr style=\"text-align: right;\">\n",
       "      <th></th>\n",
       "      <th>company_name</th>\n",
       "      <th>trips_amount</th>\n",
       "    </tr>\n",
       "  </thead>\n",
       "  <tbody>\n",
       "    <tr>\n",
       "      <th>0</th>\n",
       "      <td>Flash Cab</td>\n",
       "      <td>19558</td>\n",
       "    </tr>\n",
       "    <tr>\n",
       "      <th>1</th>\n",
       "      <td>Taxi Affiliation Services</td>\n",
       "      <td>11422</td>\n",
       "    </tr>\n",
       "    <tr>\n",
       "      <th>2</th>\n",
       "      <td>Medallion Leasing</td>\n",
       "      <td>10367</td>\n",
       "    </tr>\n",
       "    <tr>\n",
       "      <th>3</th>\n",
       "      <td>Yellow Cab</td>\n",
       "      <td>9888</td>\n",
       "    </tr>\n",
       "    <tr>\n",
       "      <th>4</th>\n",
       "      <td>Taxi Affiliation Service Yellow</td>\n",
       "      <td>9299</td>\n",
       "    </tr>\n",
       "    <tr>\n",
       "      <th>...</th>\n",
       "      <td>...</td>\n",
       "      <td>...</td>\n",
       "    </tr>\n",
       "    <tr>\n",
       "      <th>59</th>\n",
       "      <td>4053 - 40193 Adwar H. Nikola</td>\n",
       "      <td>7</td>\n",
       "    </tr>\n",
       "    <tr>\n",
       "      <th>60</th>\n",
       "      <td>2733 - 74600 Benny Jona</td>\n",
       "      <td>7</td>\n",
       "    </tr>\n",
       "    <tr>\n",
       "      <th>61</th>\n",
       "      <td>5874 - 73628 Sergey Cab Corp.</td>\n",
       "      <td>5</td>\n",
       "    </tr>\n",
       "    <tr>\n",
       "      <th>62</th>\n",
       "      <td>2241 - 44667 - Felman Corp</td>\n",
       "      <td>3</td>\n",
       "    </tr>\n",
       "    <tr>\n",
       "      <th>63</th>\n",
       "      <td>3556 - 36214 RC Andrews Cab</td>\n",
       "      <td>2</td>\n",
       "    </tr>\n",
       "  </tbody>\n",
       "</table>\n",
       "<p>64 rows × 2 columns</p>\n",
       "</div>"
      ],
      "text/plain": [
       "                       company_name  trips_amount\n",
       "0                         Flash Cab         19558\n",
       "1         Taxi Affiliation Services         11422\n",
       "2                 Medallion Leasing         10367\n",
       "3                        Yellow Cab          9888\n",
       "4   Taxi Affiliation Service Yellow          9299\n",
       "..                              ...           ...\n",
       "59     4053 - 40193 Adwar H. Nikola             7\n",
       "60          2733 - 74600 Benny Jona             7\n",
       "61    5874 - 73628 Sergey Cab Corp.             5\n",
       "62       2241 - 44667 - Felman Corp             3\n",
       "63      3556 - 36214 RC Andrews Cab             2\n",
       "\n",
       "[64 rows x 2 columns]"
      ]
     },
     "execution_count": 3,
     "metadata": {},
     "output_type": "execute_result"
    }
   ],
   "source": [
    "company_name"
   ]
  },
  {
   "cell_type": "markdown",
   "id": "51e23f98",
   "metadata": {},
   "source": [
    "#### making all company names lowercase to rid any duplicates"
   ]
  },
  {
   "cell_type": "code",
   "execution_count": 4,
   "id": "e1ccd577",
   "metadata": {},
   "outputs": [],
   "source": [
    "company_name['company_name'] = company_name['company_name'].str.lower()"
   ]
  },
  {
   "cell_type": "code",
   "execution_count": 5,
   "id": "36528d43",
   "metadata": {},
   "outputs": [
    {
     "data": {
      "text/html": [
       "<div>\n",
       "<style scoped>\n",
       "    .dataframe tbody tr th:only-of-type {\n",
       "        vertical-align: middle;\n",
       "    }\n",
       "\n",
       "    .dataframe tbody tr th {\n",
       "        vertical-align: top;\n",
       "    }\n",
       "\n",
       "    .dataframe thead th {\n",
       "        text-align: right;\n",
       "    }\n",
       "</style>\n",
       "<table border=\"1\" class=\"dataframe\">\n",
       "  <thead>\n",
       "    <tr style=\"text-align: right;\">\n",
       "      <th></th>\n",
       "      <th>company_name</th>\n",
       "      <th>trips_amount</th>\n",
       "    </tr>\n",
       "  </thead>\n",
       "  <tbody>\n",
       "    <tr>\n",
       "      <th>0</th>\n",
       "      <td>flash cab</td>\n",
       "      <td>19558</td>\n",
       "    </tr>\n",
       "    <tr>\n",
       "      <th>1</th>\n",
       "      <td>taxi affiliation services</td>\n",
       "      <td>11422</td>\n",
       "    </tr>\n",
       "    <tr>\n",
       "      <th>2</th>\n",
       "      <td>medallion leasing</td>\n",
       "      <td>10367</td>\n",
       "    </tr>\n",
       "    <tr>\n",
       "      <th>3</th>\n",
       "      <td>yellow cab</td>\n",
       "      <td>9888</td>\n",
       "    </tr>\n",
       "    <tr>\n",
       "      <th>4</th>\n",
       "      <td>taxi affiliation service yellow</td>\n",
       "      <td>9299</td>\n",
       "    </tr>\n",
       "    <tr>\n",
       "      <th>...</th>\n",
       "      <td>...</td>\n",
       "      <td>...</td>\n",
       "    </tr>\n",
       "    <tr>\n",
       "      <th>59</th>\n",
       "      <td>4053 - 40193 adwar h. nikola</td>\n",
       "      <td>7</td>\n",
       "    </tr>\n",
       "    <tr>\n",
       "      <th>60</th>\n",
       "      <td>2733 - 74600 benny jona</td>\n",
       "      <td>7</td>\n",
       "    </tr>\n",
       "    <tr>\n",
       "      <th>61</th>\n",
       "      <td>5874 - 73628 sergey cab corp.</td>\n",
       "      <td>5</td>\n",
       "    </tr>\n",
       "    <tr>\n",
       "      <th>62</th>\n",
       "      <td>2241 - 44667 - felman corp</td>\n",
       "      <td>3</td>\n",
       "    </tr>\n",
       "    <tr>\n",
       "      <th>63</th>\n",
       "      <td>3556 - 36214 rc andrews cab</td>\n",
       "      <td>2</td>\n",
       "    </tr>\n",
       "  </tbody>\n",
       "</table>\n",
       "<p>64 rows × 2 columns</p>\n",
       "</div>"
      ],
      "text/plain": [
       "                       company_name  trips_amount\n",
       "0                         flash cab         19558\n",
       "1         taxi affiliation services         11422\n",
       "2                 medallion leasing         10367\n",
       "3                        yellow cab          9888\n",
       "4   taxi affiliation service yellow          9299\n",
       "..                              ...           ...\n",
       "59     4053 - 40193 adwar h. nikola             7\n",
       "60          2733 - 74600 benny jona             7\n",
       "61    5874 - 73628 sergey cab corp.             5\n",
       "62       2241 - 44667 - felman corp             3\n",
       "63      3556 - 36214 rc andrews cab             2\n",
       "\n",
       "[64 rows x 2 columns]"
      ]
     },
     "execution_count": 5,
     "metadata": {},
     "output_type": "execute_result"
    }
   ],
   "source": [
    "company_name"
   ]
  },
  {
   "cell_type": "markdown",
   "id": "d0c386a7",
   "metadata": {},
   "source": [
    "#### no missing values "
   ]
  },
  {
   "cell_type": "code",
   "execution_count": 6,
   "id": "95cb7fe9",
   "metadata": {},
   "outputs": [
    {
     "data": {
      "text/plain": [
       "company_name    0\n",
       "trips_amount    0\n",
       "dtype: int64"
      ]
     },
     "execution_count": 6,
     "metadata": {},
     "output_type": "execute_result"
    }
   ],
   "source": [
    "company_missing = company_name.isnull().sum()\n",
    "company_missing\n"
   ]
  },
  {
   "cell_type": "markdown",
   "id": "f239b9f4",
   "metadata": {},
   "source": [
    "#### no duplicates"
   ]
  },
  {
   "cell_type": "code",
   "execution_count": 7,
   "id": "97ec2ed0",
   "metadata": {},
   "outputs": [
    {
     "name": "stdout",
     "output_type": "stream",
     "text": [
      "<class 'pandas.core.frame.DataFrame'>\n",
      "RangeIndex: 64 entries, 0 to 63\n",
      "Data columns (total 2 columns):\n",
      " #   Column        Non-Null Count  Dtype \n",
      "---  ------        --------------  ----- \n",
      " 0   company_name  64 non-null     object\n",
      " 1   trips_amount  64 non-null     int64 \n",
      "dtypes: int64(1), object(1)\n",
      "memory usage: 1.1+ KB\n"
     ]
    }
   ],
   "source": [
    "company_name.info()"
   ]
  },
  {
   "cell_type": "markdown",
   "id": "c075c8f4",
   "metadata": {},
   "source": [
    "#### checking for duplicates in company_name"
   ]
  },
  {
   "cell_type": "code",
   "execution_count": 8,
   "id": "0ab16a19",
   "metadata": {},
   "outputs": [],
   "source": [
    "company_duplicate = company_name.duplicated().sum()"
   ]
  },
  {
   "cell_type": "code",
   "execution_count": 9,
   "id": "b1394abe",
   "metadata": {},
   "outputs": [
    {
     "data": {
      "text/plain": [
       "0"
      ]
     },
     "execution_count": 9,
     "metadata": {},
     "output_type": "execute_result"
    }
   ],
   "source": [
    "company_duplicate"
   ]
  },
  {
   "cell_type": "markdown",
   "id": "7a2ba3cd",
   "metadata": {},
   "source": [
    "#### the company_name dataset contains the correct types so no changes are needed here"
   ]
  },
  {
   "cell_type": "markdown",
   "id": "3b07fd9e",
   "metadata": {},
   "source": [
    "## dropoff dataset "
   ]
  },
  {
   "cell_type": "markdown",
   "id": "67a24310",
   "metadata": {},
   "source": [
    "### contains the drop off location name and the average amount of trips taken there"
   ]
  },
  {
   "cell_type": "code",
   "execution_count": 10,
   "id": "95a287ad",
   "metadata": {},
   "outputs": [],
   "source": [
    "dropoff = pd.read_csv('/datasets/project_sql_result_04.csv')"
   ]
  },
  {
   "cell_type": "code",
   "execution_count": 11,
   "id": "4878c481",
   "metadata": {},
   "outputs": [
    {
     "data": {
      "text/html": [
       "<div>\n",
       "<style scoped>\n",
       "    .dataframe tbody tr th:only-of-type {\n",
       "        vertical-align: middle;\n",
       "    }\n",
       "\n",
       "    .dataframe tbody tr th {\n",
       "        vertical-align: top;\n",
       "    }\n",
       "\n",
       "    .dataframe thead th {\n",
       "        text-align: right;\n",
       "    }\n",
       "</style>\n",
       "<table border=\"1\" class=\"dataframe\">\n",
       "  <thead>\n",
       "    <tr style=\"text-align: right;\">\n",
       "      <th></th>\n",
       "      <th>dropoff_location_name</th>\n",
       "      <th>average_trips</th>\n",
       "    </tr>\n",
       "  </thead>\n",
       "  <tbody>\n",
       "    <tr>\n",
       "      <th>0</th>\n",
       "      <td>Loop</td>\n",
       "      <td>10727.466667</td>\n",
       "    </tr>\n",
       "    <tr>\n",
       "      <th>1</th>\n",
       "      <td>River North</td>\n",
       "      <td>9523.666667</td>\n",
       "    </tr>\n",
       "    <tr>\n",
       "      <th>2</th>\n",
       "      <td>Streeterville</td>\n",
       "      <td>6664.666667</td>\n",
       "    </tr>\n",
       "    <tr>\n",
       "      <th>3</th>\n",
       "      <td>West Loop</td>\n",
       "      <td>5163.666667</td>\n",
       "    </tr>\n",
       "    <tr>\n",
       "      <th>4</th>\n",
       "      <td>O'Hare</td>\n",
       "      <td>2546.900000</td>\n",
       "    </tr>\n",
       "    <tr>\n",
       "      <th>...</th>\n",
       "      <td>...</td>\n",
       "      <td>...</td>\n",
       "    </tr>\n",
       "    <tr>\n",
       "      <th>89</th>\n",
       "      <td>Mount Greenwood</td>\n",
       "      <td>3.137931</td>\n",
       "    </tr>\n",
       "    <tr>\n",
       "      <th>90</th>\n",
       "      <td>Hegewisch</td>\n",
       "      <td>3.117647</td>\n",
       "    </tr>\n",
       "    <tr>\n",
       "      <th>91</th>\n",
       "      <td>Burnside</td>\n",
       "      <td>2.333333</td>\n",
       "    </tr>\n",
       "    <tr>\n",
       "      <th>92</th>\n",
       "      <td>East Side</td>\n",
       "      <td>1.961538</td>\n",
       "    </tr>\n",
       "    <tr>\n",
       "      <th>93</th>\n",
       "      <td>Riverdale</td>\n",
       "      <td>1.800000</td>\n",
       "    </tr>\n",
       "  </tbody>\n",
       "</table>\n",
       "<p>94 rows × 2 columns</p>\n",
       "</div>"
      ],
      "text/plain": [
       "   dropoff_location_name  average_trips\n",
       "0                   Loop   10727.466667\n",
       "1            River North    9523.666667\n",
       "2          Streeterville    6664.666667\n",
       "3              West Loop    5163.666667\n",
       "4                 O'Hare    2546.900000\n",
       "..                   ...            ...\n",
       "89       Mount Greenwood       3.137931\n",
       "90             Hegewisch       3.117647\n",
       "91              Burnside       2.333333\n",
       "92             East Side       1.961538\n",
       "93             Riverdale       1.800000\n",
       "\n",
       "[94 rows x 2 columns]"
      ]
     },
     "execution_count": 11,
     "metadata": {},
     "output_type": "execute_result"
    }
   ],
   "source": [
    "dropoff"
   ]
  },
  {
   "cell_type": "markdown",
   "id": "65603189",
   "metadata": {},
   "source": [
    "#### lowercasing the location name to rid any duplicates"
   ]
  },
  {
   "cell_type": "code",
   "execution_count": 12,
   "id": "602778d1",
   "metadata": {},
   "outputs": [],
   "source": [
    "dropoff['dropoff_location_name'] = dropoff['dropoff_location_name'].str.lower()"
   ]
  },
  {
   "cell_type": "code",
   "execution_count": 13,
   "id": "e48ac542",
   "metadata": {},
   "outputs": [
    {
     "data": {
      "text/html": [
       "<div>\n",
       "<style scoped>\n",
       "    .dataframe tbody tr th:only-of-type {\n",
       "        vertical-align: middle;\n",
       "    }\n",
       "\n",
       "    .dataframe tbody tr th {\n",
       "        vertical-align: top;\n",
       "    }\n",
       "\n",
       "    .dataframe thead th {\n",
       "        text-align: right;\n",
       "    }\n",
       "</style>\n",
       "<table border=\"1\" class=\"dataframe\">\n",
       "  <thead>\n",
       "    <tr style=\"text-align: right;\">\n",
       "      <th></th>\n",
       "      <th>dropoff_location_name</th>\n",
       "      <th>average_trips</th>\n",
       "    </tr>\n",
       "  </thead>\n",
       "  <tbody>\n",
       "    <tr>\n",
       "      <th>0</th>\n",
       "      <td>loop</td>\n",
       "      <td>10727.466667</td>\n",
       "    </tr>\n",
       "    <tr>\n",
       "      <th>1</th>\n",
       "      <td>river north</td>\n",
       "      <td>9523.666667</td>\n",
       "    </tr>\n",
       "    <tr>\n",
       "      <th>2</th>\n",
       "      <td>streeterville</td>\n",
       "      <td>6664.666667</td>\n",
       "    </tr>\n",
       "    <tr>\n",
       "      <th>3</th>\n",
       "      <td>west loop</td>\n",
       "      <td>5163.666667</td>\n",
       "    </tr>\n",
       "    <tr>\n",
       "      <th>4</th>\n",
       "      <td>o'hare</td>\n",
       "      <td>2546.900000</td>\n",
       "    </tr>\n",
       "    <tr>\n",
       "      <th>...</th>\n",
       "      <td>...</td>\n",
       "      <td>...</td>\n",
       "    </tr>\n",
       "    <tr>\n",
       "      <th>89</th>\n",
       "      <td>mount greenwood</td>\n",
       "      <td>3.137931</td>\n",
       "    </tr>\n",
       "    <tr>\n",
       "      <th>90</th>\n",
       "      <td>hegewisch</td>\n",
       "      <td>3.117647</td>\n",
       "    </tr>\n",
       "    <tr>\n",
       "      <th>91</th>\n",
       "      <td>burnside</td>\n",
       "      <td>2.333333</td>\n",
       "    </tr>\n",
       "    <tr>\n",
       "      <th>92</th>\n",
       "      <td>east side</td>\n",
       "      <td>1.961538</td>\n",
       "    </tr>\n",
       "    <tr>\n",
       "      <th>93</th>\n",
       "      <td>riverdale</td>\n",
       "      <td>1.800000</td>\n",
       "    </tr>\n",
       "  </tbody>\n",
       "</table>\n",
       "<p>94 rows × 2 columns</p>\n",
       "</div>"
      ],
      "text/plain": [
       "   dropoff_location_name  average_trips\n",
       "0                   loop   10727.466667\n",
       "1            river north    9523.666667\n",
       "2          streeterville    6664.666667\n",
       "3              west loop    5163.666667\n",
       "4                 o'hare    2546.900000\n",
       "..                   ...            ...\n",
       "89       mount greenwood       3.137931\n",
       "90             hegewisch       3.117647\n",
       "91              burnside       2.333333\n",
       "92             east side       1.961538\n",
       "93             riverdale       1.800000\n",
       "\n",
       "[94 rows x 2 columns]"
      ]
     },
     "execution_count": 13,
     "metadata": {},
     "output_type": "execute_result"
    }
   ],
   "source": [
    "dropoff"
   ]
  },
  {
   "cell_type": "markdown",
   "id": "26662598",
   "metadata": {},
   "source": [
    "#### no missing or duplicates in dropoff"
   ]
  },
  {
   "cell_type": "code",
   "execution_count": 14,
   "id": "ce428be5",
   "metadata": {},
   "outputs": [],
   "source": [
    "dropoff_missing = dropoff.isnull().sum()\n",
    "dropoff_duplicate = dropoff.duplicated().sum()"
   ]
  },
  {
   "cell_type": "code",
   "execution_count": 15,
   "id": "19148ca9",
   "metadata": {},
   "outputs": [
    {
     "data": {
      "text/plain": [
       "dropoff_location_name    0\n",
       "average_trips            0\n",
       "dtype: int64"
      ]
     },
     "execution_count": 15,
     "metadata": {},
     "output_type": "execute_result"
    }
   ],
   "source": [
    "dropoff_missing"
   ]
  },
  {
   "cell_type": "code",
   "execution_count": 16,
   "id": "c783e565",
   "metadata": {},
   "outputs": [
    {
     "data": {
      "text/plain": [
       "0"
      ]
     },
     "execution_count": 16,
     "metadata": {},
     "output_type": "execute_result"
    }
   ],
   "source": [
    "dropoff_duplicate"
   ]
  },
  {
   "cell_type": "markdown",
   "id": "9b586e3c",
   "metadata": {},
   "source": [
    "#### no duplicates"
   ]
  },
  {
   "cell_type": "code",
   "execution_count": 17,
   "id": "4abfdba4",
   "metadata": {},
   "outputs": [
    {
     "name": "stdout",
     "output_type": "stream",
     "text": [
      "<class 'pandas.core.frame.DataFrame'>\n",
      "RangeIndex: 94 entries, 0 to 93\n",
      "Data columns (total 2 columns):\n",
      " #   Column                 Non-Null Count  Dtype  \n",
      "---  ------                 --------------  -----  \n",
      " 0   dropoff_location_name  94 non-null     object \n",
      " 1   average_trips          94 non-null     float64\n",
      "dtypes: float64(1), object(1)\n",
      "memory usage: 1.6+ KB\n"
     ]
    }
   ],
   "source": [
    "dropoff.info()"
   ]
  },
  {
   "cell_type": "markdown",
   "id": "ec194841",
   "metadata": {},
   "source": [
    "#### rounding up the average_trips column to make it cleaner and changing to int type"
   ]
  },
  {
   "cell_type": "code",
   "execution_count": 18,
   "id": "2a7d58ef",
   "metadata": {},
   "outputs": [],
   "source": [
    "dropoff['average_trips'] = np.ceil(dropoff['average_trips'])\n",
    "dropoff['average_trips'] = dropoff['average_trips'].astype(int)"
   ]
  },
  {
   "cell_type": "code",
   "execution_count": 19,
   "id": "d8c56711",
   "metadata": {},
   "outputs": [
    {
     "data": {
      "text/html": [
       "<div>\n",
       "<style scoped>\n",
       "    .dataframe tbody tr th:only-of-type {\n",
       "        vertical-align: middle;\n",
       "    }\n",
       "\n",
       "    .dataframe tbody tr th {\n",
       "        vertical-align: top;\n",
       "    }\n",
       "\n",
       "    .dataframe thead th {\n",
       "        text-align: right;\n",
       "    }\n",
       "</style>\n",
       "<table border=\"1\" class=\"dataframe\">\n",
       "  <thead>\n",
       "    <tr style=\"text-align: right;\">\n",
       "      <th></th>\n",
       "      <th>dropoff_location_name</th>\n",
       "      <th>average_trips</th>\n",
       "    </tr>\n",
       "  </thead>\n",
       "  <tbody>\n",
       "    <tr>\n",
       "      <th>0</th>\n",
       "      <td>loop</td>\n",
       "      <td>10728</td>\n",
       "    </tr>\n",
       "    <tr>\n",
       "      <th>1</th>\n",
       "      <td>river north</td>\n",
       "      <td>9524</td>\n",
       "    </tr>\n",
       "    <tr>\n",
       "      <th>2</th>\n",
       "      <td>streeterville</td>\n",
       "      <td>6665</td>\n",
       "    </tr>\n",
       "    <tr>\n",
       "      <th>3</th>\n",
       "      <td>west loop</td>\n",
       "      <td>5164</td>\n",
       "    </tr>\n",
       "    <tr>\n",
       "      <th>4</th>\n",
       "      <td>o'hare</td>\n",
       "      <td>2547</td>\n",
       "    </tr>\n",
       "    <tr>\n",
       "      <th>...</th>\n",
       "      <td>...</td>\n",
       "      <td>...</td>\n",
       "    </tr>\n",
       "    <tr>\n",
       "      <th>89</th>\n",
       "      <td>mount greenwood</td>\n",
       "      <td>4</td>\n",
       "    </tr>\n",
       "    <tr>\n",
       "      <th>90</th>\n",
       "      <td>hegewisch</td>\n",
       "      <td>4</td>\n",
       "    </tr>\n",
       "    <tr>\n",
       "      <th>91</th>\n",
       "      <td>burnside</td>\n",
       "      <td>3</td>\n",
       "    </tr>\n",
       "    <tr>\n",
       "      <th>92</th>\n",
       "      <td>east side</td>\n",
       "      <td>2</td>\n",
       "    </tr>\n",
       "    <tr>\n",
       "      <th>93</th>\n",
       "      <td>riverdale</td>\n",
       "      <td>2</td>\n",
       "    </tr>\n",
       "  </tbody>\n",
       "</table>\n",
       "<p>94 rows × 2 columns</p>\n",
       "</div>"
      ],
      "text/plain": [
       "   dropoff_location_name  average_trips\n",
       "0                   loop          10728\n",
       "1            river north           9524\n",
       "2          streeterville           6665\n",
       "3              west loop           5164\n",
       "4                 o'hare           2547\n",
       "..                   ...            ...\n",
       "89       mount greenwood              4\n",
       "90             hegewisch              4\n",
       "91              burnside              3\n",
       "92             east side              2\n",
       "93             riverdale              2\n",
       "\n",
       "[94 rows x 2 columns]"
      ]
     },
     "execution_count": 19,
     "metadata": {},
     "output_type": "execute_result"
    }
   ],
   "source": [
    "dropoff"
   ]
  },
  {
   "cell_type": "code",
   "execution_count": 20,
   "id": "67c24c21",
   "metadata": {},
   "outputs": [
    {
     "name": "stdout",
     "output_type": "stream",
     "text": [
      "<class 'pandas.core.frame.DataFrame'>\n",
      "RangeIndex: 94 entries, 0 to 93\n",
      "Data columns (total 2 columns):\n",
      " #   Column                 Non-Null Count  Dtype \n",
      "---  ------                 --------------  ----- \n",
      " 0   dropoff_location_name  94 non-null     object\n",
      " 1   average_trips          94 non-null     int64 \n",
      "dtypes: int64(1), object(1)\n",
      "memory usage: 1.6+ KB\n"
     ]
    }
   ],
   "source": [
    "dropoff.info()"
   ]
  },
  {
   "cell_type": "markdown",
   "id": "035d9377",
   "metadata": {},
   "source": [
    "#### checking to make sure each location name is unique and no duplicates"
   ]
  },
  {
   "cell_type": "code",
   "execution_count": 21,
   "id": "b81cbaba",
   "metadata": {},
   "outputs": [],
   "source": [
    "uniq_dropoff_count = dropoff.nunique()"
   ]
  },
  {
   "cell_type": "code",
   "execution_count": 22,
   "id": "3be1ecfc",
   "metadata": {},
   "outputs": [
    {
     "data": {
      "text/plain": [
       "dropoff_location_name    94\n",
       "average_trips            71\n",
       "dtype: int64"
      ]
     },
     "execution_count": 22,
     "metadata": {},
     "output_type": "execute_result"
    }
   ],
   "source": [
    "uniq_dropoff_count"
   ]
  },
  {
   "cell_type": "markdown",
   "id": "e2be1651",
   "metadata": {},
   "source": [
    "#### number of names matches count. all names are unique"
   ]
  },
  {
   "cell_type": "markdown",
   "id": "7f48c3e6",
   "metadata": {},
   "source": [
    "## trip_info dataset "
   ]
  },
  {
   "cell_type": "markdown",
   "id": "17d18e75",
   "metadata": {},
   "source": [
    "### Contains data on rides from the Loop to O'Hare International Airport"
   ]
  },
  {
   "cell_type": "code",
   "execution_count": 23,
   "id": "ccc075ea",
   "metadata": {},
   "outputs": [],
   "source": [
    "trip_info = pd.read_csv('/datasets/project_sql_result_07.csv')"
   ]
  },
  {
   "cell_type": "code",
   "execution_count": 24,
   "id": "cf89eb0f",
   "metadata": {},
   "outputs": [
    {
     "data": {
      "text/html": [
       "<div>\n",
       "<style scoped>\n",
       "    .dataframe tbody tr th:only-of-type {\n",
       "        vertical-align: middle;\n",
       "    }\n",
       "\n",
       "    .dataframe tbody tr th {\n",
       "        vertical-align: top;\n",
       "    }\n",
       "\n",
       "    .dataframe thead th {\n",
       "        text-align: right;\n",
       "    }\n",
       "</style>\n",
       "<table border=\"1\" class=\"dataframe\">\n",
       "  <thead>\n",
       "    <tr style=\"text-align: right;\">\n",
       "      <th></th>\n",
       "      <th>start_ts</th>\n",
       "      <th>weather_conditions</th>\n",
       "      <th>duration_seconds</th>\n",
       "    </tr>\n",
       "  </thead>\n",
       "  <tbody>\n",
       "    <tr>\n",
       "      <th>0</th>\n",
       "      <td>2017-11-25 16:00:00</td>\n",
       "      <td>Good</td>\n",
       "      <td>2410.0</td>\n",
       "    </tr>\n",
       "    <tr>\n",
       "      <th>1</th>\n",
       "      <td>2017-11-25 14:00:00</td>\n",
       "      <td>Good</td>\n",
       "      <td>1920.0</td>\n",
       "    </tr>\n",
       "    <tr>\n",
       "      <th>2</th>\n",
       "      <td>2017-11-25 12:00:00</td>\n",
       "      <td>Good</td>\n",
       "      <td>1543.0</td>\n",
       "    </tr>\n",
       "    <tr>\n",
       "      <th>3</th>\n",
       "      <td>2017-11-04 10:00:00</td>\n",
       "      <td>Good</td>\n",
       "      <td>2512.0</td>\n",
       "    </tr>\n",
       "    <tr>\n",
       "      <th>4</th>\n",
       "      <td>2017-11-11 07:00:00</td>\n",
       "      <td>Good</td>\n",
       "      <td>1440.0</td>\n",
       "    </tr>\n",
       "    <tr>\n",
       "      <th>...</th>\n",
       "      <td>...</td>\n",
       "      <td>...</td>\n",
       "      <td>...</td>\n",
       "    </tr>\n",
       "    <tr>\n",
       "      <th>1063</th>\n",
       "      <td>2017-11-25 11:00:00</td>\n",
       "      <td>Good</td>\n",
       "      <td>0.0</td>\n",
       "    </tr>\n",
       "    <tr>\n",
       "      <th>1064</th>\n",
       "      <td>2017-11-11 10:00:00</td>\n",
       "      <td>Good</td>\n",
       "      <td>1318.0</td>\n",
       "    </tr>\n",
       "    <tr>\n",
       "      <th>1065</th>\n",
       "      <td>2017-11-11 13:00:00</td>\n",
       "      <td>Good</td>\n",
       "      <td>2100.0</td>\n",
       "    </tr>\n",
       "    <tr>\n",
       "      <th>1066</th>\n",
       "      <td>2017-11-11 08:00:00</td>\n",
       "      <td>Good</td>\n",
       "      <td>1380.0</td>\n",
       "    </tr>\n",
       "    <tr>\n",
       "      <th>1067</th>\n",
       "      <td>2017-11-04 16:00:00</td>\n",
       "      <td>Bad</td>\n",
       "      <td>2834.0</td>\n",
       "    </tr>\n",
       "  </tbody>\n",
       "</table>\n",
       "<p>1068 rows × 3 columns</p>\n",
       "</div>"
      ],
      "text/plain": [
       "                 start_ts weather_conditions  duration_seconds\n",
       "0     2017-11-25 16:00:00               Good            2410.0\n",
       "1     2017-11-25 14:00:00               Good            1920.0\n",
       "2     2017-11-25 12:00:00               Good            1543.0\n",
       "3     2017-11-04 10:00:00               Good            2512.0\n",
       "4     2017-11-11 07:00:00               Good            1440.0\n",
       "...                   ...                ...               ...\n",
       "1063  2017-11-25 11:00:00               Good               0.0\n",
       "1064  2017-11-11 10:00:00               Good            1318.0\n",
       "1065  2017-11-11 13:00:00               Good            2100.0\n",
       "1066  2017-11-11 08:00:00               Good            1380.0\n",
       "1067  2017-11-04 16:00:00                Bad            2834.0\n",
       "\n",
       "[1068 rows x 3 columns]"
      ]
     },
     "execution_count": 24,
     "metadata": {},
     "output_type": "execute_result"
    }
   ],
   "source": [
    "trip_info"
   ]
  },
  {
   "cell_type": "code",
   "execution_count": 25,
   "id": "d939c0a8",
   "metadata": {},
   "outputs": [
    {
     "name": "stdout",
     "output_type": "stream",
     "text": [
      "<class 'pandas.core.frame.DataFrame'>\n",
      "RangeIndex: 1068 entries, 0 to 1067\n",
      "Data columns (total 3 columns):\n",
      " #   Column              Non-Null Count  Dtype  \n",
      "---  ------              --------------  -----  \n",
      " 0   start_ts            1068 non-null   object \n",
      " 1   weather_conditions  1068 non-null   object \n",
      " 2   duration_seconds    1068 non-null   float64\n",
      "dtypes: float64(1), object(2)\n",
      "memory usage: 25.2+ KB\n"
     ]
    }
   ],
   "source": [
    "trip_info.info()"
   ]
  },
  {
   "cell_type": "markdown",
   "id": "525ead0e",
   "metadata": {},
   "source": [
    "#### changing the start_ts type to date time"
   ]
  },
  {
   "cell_type": "code",
   "execution_count": 26,
   "id": "82d5246a",
   "metadata": {},
   "outputs": [],
   "source": [
    "trip_info['start_ts'] = pd.to_datetime(trip_info['start_ts'])"
   ]
  },
  {
   "cell_type": "code",
   "execution_count": 27,
   "id": "e2d7ba33",
   "metadata": {},
   "outputs": [
    {
     "name": "stdout",
     "output_type": "stream",
     "text": [
      "<class 'pandas.core.frame.DataFrame'>\n",
      "RangeIndex: 1068 entries, 0 to 1067\n",
      "Data columns (total 3 columns):\n",
      " #   Column              Non-Null Count  Dtype         \n",
      "---  ------              --------------  -----         \n",
      " 0   start_ts            1068 non-null   datetime64[ns]\n",
      " 1   weather_conditions  1068 non-null   object        \n",
      " 2   duration_seconds    1068 non-null   float64       \n",
      "dtypes: datetime64[ns](1), float64(1), object(1)\n",
      "memory usage: 25.2+ KB\n"
     ]
    }
   ],
   "source": [
    "trip_info.info()"
   ]
  },
  {
   "cell_type": "markdown",
   "id": "0fe0590f",
   "metadata": {},
   "source": [
    "#### changing the duration_seconds column to duration_minutes because it is hard to tell how long almost 2500 seconds is in your head"
   ]
  },
  {
   "cell_type": "code",
   "execution_count": 28,
   "id": "fc0b152d",
   "metadata": {},
   "outputs": [],
   "source": [
    "trip_info['duration_seconds'] = trip_info['duration_seconds'] / 60\n",
    "trip_info.rename(columns={'duration_seconds': 'duration_minutes'}, inplace=True)\n"
   ]
  },
  {
   "cell_type": "code",
   "execution_count": 29,
   "id": "31217b75",
   "metadata": {},
   "outputs": [
    {
     "data": {
      "text/html": [
       "<div>\n",
       "<style scoped>\n",
       "    .dataframe tbody tr th:only-of-type {\n",
       "        vertical-align: middle;\n",
       "    }\n",
       "\n",
       "    .dataframe tbody tr th {\n",
       "        vertical-align: top;\n",
       "    }\n",
       "\n",
       "    .dataframe thead th {\n",
       "        text-align: right;\n",
       "    }\n",
       "</style>\n",
       "<table border=\"1\" class=\"dataframe\">\n",
       "  <thead>\n",
       "    <tr style=\"text-align: right;\">\n",
       "      <th></th>\n",
       "      <th>start_ts</th>\n",
       "      <th>weather_conditions</th>\n",
       "      <th>duration_minutes</th>\n",
       "    </tr>\n",
       "  </thead>\n",
       "  <tbody>\n",
       "    <tr>\n",
       "      <th>0</th>\n",
       "      <td>2017-11-25 16:00:00</td>\n",
       "      <td>Good</td>\n",
       "      <td>40.166667</td>\n",
       "    </tr>\n",
       "    <tr>\n",
       "      <th>1</th>\n",
       "      <td>2017-11-25 14:00:00</td>\n",
       "      <td>Good</td>\n",
       "      <td>32.000000</td>\n",
       "    </tr>\n",
       "    <tr>\n",
       "      <th>2</th>\n",
       "      <td>2017-11-25 12:00:00</td>\n",
       "      <td>Good</td>\n",
       "      <td>25.716667</td>\n",
       "    </tr>\n",
       "    <tr>\n",
       "      <th>3</th>\n",
       "      <td>2017-11-04 10:00:00</td>\n",
       "      <td>Good</td>\n",
       "      <td>41.866667</td>\n",
       "    </tr>\n",
       "    <tr>\n",
       "      <th>4</th>\n",
       "      <td>2017-11-11 07:00:00</td>\n",
       "      <td>Good</td>\n",
       "      <td>24.000000</td>\n",
       "    </tr>\n",
       "    <tr>\n",
       "      <th>...</th>\n",
       "      <td>...</td>\n",
       "      <td>...</td>\n",
       "      <td>...</td>\n",
       "    </tr>\n",
       "    <tr>\n",
       "      <th>1063</th>\n",
       "      <td>2017-11-25 11:00:00</td>\n",
       "      <td>Good</td>\n",
       "      <td>0.000000</td>\n",
       "    </tr>\n",
       "    <tr>\n",
       "      <th>1064</th>\n",
       "      <td>2017-11-11 10:00:00</td>\n",
       "      <td>Good</td>\n",
       "      <td>21.966667</td>\n",
       "    </tr>\n",
       "    <tr>\n",
       "      <th>1065</th>\n",
       "      <td>2017-11-11 13:00:00</td>\n",
       "      <td>Good</td>\n",
       "      <td>35.000000</td>\n",
       "    </tr>\n",
       "    <tr>\n",
       "      <th>1066</th>\n",
       "      <td>2017-11-11 08:00:00</td>\n",
       "      <td>Good</td>\n",
       "      <td>23.000000</td>\n",
       "    </tr>\n",
       "    <tr>\n",
       "      <th>1067</th>\n",
       "      <td>2017-11-04 16:00:00</td>\n",
       "      <td>Bad</td>\n",
       "      <td>47.233333</td>\n",
       "    </tr>\n",
       "  </tbody>\n",
       "</table>\n",
       "<p>1068 rows × 3 columns</p>\n",
       "</div>"
      ],
      "text/plain": [
       "                start_ts weather_conditions  duration_minutes\n",
       "0    2017-11-25 16:00:00               Good         40.166667\n",
       "1    2017-11-25 14:00:00               Good         32.000000\n",
       "2    2017-11-25 12:00:00               Good         25.716667\n",
       "3    2017-11-04 10:00:00               Good         41.866667\n",
       "4    2017-11-11 07:00:00               Good         24.000000\n",
       "...                  ...                ...               ...\n",
       "1063 2017-11-25 11:00:00               Good          0.000000\n",
       "1064 2017-11-11 10:00:00               Good         21.966667\n",
       "1065 2017-11-11 13:00:00               Good         35.000000\n",
       "1066 2017-11-11 08:00:00               Good         23.000000\n",
       "1067 2017-11-04 16:00:00                Bad         47.233333\n",
       "\n",
       "[1068 rows x 3 columns]"
      ]
     },
     "execution_count": 29,
     "metadata": {},
     "output_type": "execute_result"
    }
   ],
   "source": [
    "trip_info"
   ]
  },
  {
   "cell_type": "markdown",
   "id": "d8e0caa2",
   "metadata": {},
   "source": [
    "#### removing any rows with a duration of 0 minutes"
   ]
  },
  {
   "cell_type": "code",
   "execution_count": 30,
   "id": "a2238bf7",
   "metadata": {},
   "outputs": [],
   "source": [
    "trip_info = trip_info.query(\"duration_minutes != 0\")"
   ]
  },
  {
   "cell_type": "code",
   "execution_count": 31,
   "id": "85108db8",
   "metadata": {},
   "outputs": [
    {
     "data": {
      "text/html": [
       "<div>\n",
       "<style scoped>\n",
       "    .dataframe tbody tr th:only-of-type {\n",
       "        vertical-align: middle;\n",
       "    }\n",
       "\n",
       "    .dataframe tbody tr th {\n",
       "        vertical-align: top;\n",
       "    }\n",
       "\n",
       "    .dataframe thead th {\n",
       "        text-align: right;\n",
       "    }\n",
       "</style>\n",
       "<table border=\"1\" class=\"dataframe\">\n",
       "  <thead>\n",
       "    <tr style=\"text-align: right;\">\n",
       "      <th></th>\n",
       "      <th>start_ts</th>\n",
       "      <th>weather_conditions</th>\n",
       "      <th>duration_minutes</th>\n",
       "    </tr>\n",
       "  </thead>\n",
       "  <tbody>\n",
       "    <tr>\n",
       "      <th>0</th>\n",
       "      <td>2017-11-25 16:00:00</td>\n",
       "      <td>Good</td>\n",
       "      <td>40.166667</td>\n",
       "    </tr>\n",
       "    <tr>\n",
       "      <th>1</th>\n",
       "      <td>2017-11-25 14:00:00</td>\n",
       "      <td>Good</td>\n",
       "      <td>32.000000</td>\n",
       "    </tr>\n",
       "    <tr>\n",
       "      <th>2</th>\n",
       "      <td>2017-11-25 12:00:00</td>\n",
       "      <td>Good</td>\n",
       "      <td>25.716667</td>\n",
       "    </tr>\n",
       "    <tr>\n",
       "      <th>3</th>\n",
       "      <td>2017-11-04 10:00:00</td>\n",
       "      <td>Good</td>\n",
       "      <td>41.866667</td>\n",
       "    </tr>\n",
       "    <tr>\n",
       "      <th>4</th>\n",
       "      <td>2017-11-11 07:00:00</td>\n",
       "      <td>Good</td>\n",
       "      <td>24.000000</td>\n",
       "    </tr>\n",
       "    <tr>\n",
       "      <th>...</th>\n",
       "      <td>...</td>\n",
       "      <td>...</td>\n",
       "      <td>...</td>\n",
       "    </tr>\n",
       "    <tr>\n",
       "      <th>1062</th>\n",
       "      <td>2017-11-11 06:00:00</td>\n",
       "      <td>Good</td>\n",
       "      <td>25.000000</td>\n",
       "    </tr>\n",
       "    <tr>\n",
       "      <th>1064</th>\n",
       "      <td>2017-11-11 10:00:00</td>\n",
       "      <td>Good</td>\n",
       "      <td>21.966667</td>\n",
       "    </tr>\n",
       "    <tr>\n",
       "      <th>1065</th>\n",
       "      <td>2017-11-11 13:00:00</td>\n",
       "      <td>Good</td>\n",
       "      <td>35.000000</td>\n",
       "    </tr>\n",
       "    <tr>\n",
       "      <th>1066</th>\n",
       "      <td>2017-11-11 08:00:00</td>\n",
       "      <td>Good</td>\n",
       "      <td>23.000000</td>\n",
       "    </tr>\n",
       "    <tr>\n",
       "      <th>1067</th>\n",
       "      <td>2017-11-04 16:00:00</td>\n",
       "      <td>Bad</td>\n",
       "      <td>47.233333</td>\n",
       "    </tr>\n",
       "  </tbody>\n",
       "</table>\n",
       "<p>1062 rows × 3 columns</p>\n",
       "</div>"
      ],
      "text/plain": [
       "                start_ts weather_conditions  duration_minutes\n",
       "0    2017-11-25 16:00:00               Good         40.166667\n",
       "1    2017-11-25 14:00:00               Good         32.000000\n",
       "2    2017-11-25 12:00:00               Good         25.716667\n",
       "3    2017-11-04 10:00:00               Good         41.866667\n",
       "4    2017-11-11 07:00:00               Good         24.000000\n",
       "...                  ...                ...               ...\n",
       "1062 2017-11-11 06:00:00               Good         25.000000\n",
       "1064 2017-11-11 10:00:00               Good         21.966667\n",
       "1065 2017-11-11 13:00:00               Good         35.000000\n",
       "1066 2017-11-11 08:00:00               Good         23.000000\n",
       "1067 2017-11-04 16:00:00                Bad         47.233333\n",
       "\n",
       "[1062 rows x 3 columns]"
      ]
     },
     "execution_count": 31,
     "metadata": {},
     "output_type": "execute_result"
    }
   ],
   "source": [
    "trip_info"
   ]
  },
  {
   "cell_type": "code",
   "execution_count": 32,
   "id": "76d8df39",
   "metadata": {},
   "outputs": [],
   "source": [
    "trip_missing = trip_info.isnull().sum()\n",
    "trip_duplicate = trip_info.duplicated().sum()"
   ]
  },
  {
   "cell_type": "code",
   "execution_count": 33,
   "id": "6d165496",
   "metadata": {},
   "outputs": [
    {
     "data": {
      "text/plain": [
       "start_ts              0\n",
       "weather_conditions    0\n",
       "duration_minutes      0\n",
       "dtype: int64"
      ]
     },
     "execution_count": 33,
     "metadata": {},
     "output_type": "execute_result"
    }
   ],
   "source": [
    "trip_missing"
   ]
  },
  {
   "cell_type": "code",
   "execution_count": 34,
   "id": "45fb72c5",
   "metadata": {},
   "outputs": [
    {
     "data": {
      "text/plain": [
       "197"
      ]
     },
     "execution_count": 34,
     "metadata": {},
     "output_type": "execute_result"
    }
   ],
   "source": [
    "trip_duplicate"
   ]
  },
  {
   "cell_type": "code",
   "execution_count": 35,
   "id": "d893b335",
   "metadata": {},
   "outputs": [
    {
     "data": {
      "text/html": [
       "<div>\n",
       "<style scoped>\n",
       "    .dataframe tbody tr th:only-of-type {\n",
       "        vertical-align: middle;\n",
       "    }\n",
       "\n",
       "    .dataframe tbody tr th {\n",
       "        vertical-align: top;\n",
       "    }\n",
       "\n",
       "    .dataframe thead th {\n",
       "        text-align: right;\n",
       "    }\n",
       "</style>\n",
       "<table border=\"1\" class=\"dataframe\">\n",
       "  <thead>\n",
       "    <tr style=\"text-align: right;\">\n",
       "      <th></th>\n",
       "      <th>start_ts</th>\n",
       "      <th>weather_conditions</th>\n",
       "      <th>duration_minutes</th>\n",
       "    </tr>\n",
       "  </thead>\n",
       "  <tbody>\n",
       "    <tr>\n",
       "      <th>4</th>\n",
       "      <td>2017-11-11 07:00:00</td>\n",
       "      <td>Good</td>\n",
       "      <td>24.0</td>\n",
       "    </tr>\n",
       "    <tr>\n",
       "      <th>8</th>\n",
       "      <td>2017-11-11 14:00:00</td>\n",
       "      <td>Good</td>\n",
       "      <td>41.0</td>\n",
       "    </tr>\n",
       "    <tr>\n",
       "      <th>10</th>\n",
       "      <td>2017-11-18 06:00:00</td>\n",
       "      <td>Good</td>\n",
       "      <td>25.0</td>\n",
       "    </tr>\n",
       "    <tr>\n",
       "      <th>16</th>\n",
       "      <td>2017-11-04 12:00:00</td>\n",
       "      <td>Good</td>\n",
       "      <td>44.0</td>\n",
       "    </tr>\n",
       "    <tr>\n",
       "      <th>23</th>\n",
       "      <td>2017-11-04 14:00:00</td>\n",
       "      <td>Good</td>\n",
       "      <td>56.0</td>\n",
       "    </tr>\n",
       "    <tr>\n",
       "      <th>...</th>\n",
       "      <td>...</td>\n",
       "      <td>...</td>\n",
       "      <td>...</td>\n",
       "    </tr>\n",
       "    <tr>\n",
       "      <th>1054</th>\n",
       "      <td>2017-11-11 07:00:00</td>\n",
       "      <td>Good</td>\n",
       "      <td>23.0</td>\n",
       "    </tr>\n",
       "    <tr>\n",
       "      <th>1058</th>\n",
       "      <td>2017-11-25 12:00:00</td>\n",
       "      <td>Good</td>\n",
       "      <td>24.0</td>\n",
       "    </tr>\n",
       "    <tr>\n",
       "      <th>1062</th>\n",
       "      <td>2017-11-11 06:00:00</td>\n",
       "      <td>Good</td>\n",
       "      <td>25.0</td>\n",
       "    </tr>\n",
       "    <tr>\n",
       "      <th>1065</th>\n",
       "      <td>2017-11-11 13:00:00</td>\n",
       "      <td>Good</td>\n",
       "      <td>35.0</td>\n",
       "    </tr>\n",
       "    <tr>\n",
       "      <th>1066</th>\n",
       "      <td>2017-11-11 08:00:00</td>\n",
       "      <td>Good</td>\n",
       "      <td>23.0</td>\n",
       "    </tr>\n",
       "  </tbody>\n",
       "</table>\n",
       "<p>312 rows × 3 columns</p>\n",
       "</div>"
      ],
      "text/plain": [
       "                start_ts weather_conditions  duration_minutes\n",
       "4    2017-11-11 07:00:00               Good              24.0\n",
       "8    2017-11-11 14:00:00               Good              41.0\n",
       "10   2017-11-18 06:00:00               Good              25.0\n",
       "16   2017-11-04 12:00:00               Good              44.0\n",
       "23   2017-11-04 14:00:00               Good              56.0\n",
       "...                  ...                ...               ...\n",
       "1054 2017-11-11 07:00:00               Good              23.0\n",
       "1058 2017-11-25 12:00:00               Good              24.0\n",
       "1062 2017-11-11 06:00:00               Good              25.0\n",
       "1065 2017-11-11 13:00:00               Good              35.0\n",
       "1066 2017-11-11 08:00:00               Good              23.0\n",
       "\n",
       "[312 rows x 3 columns]"
      ]
     },
     "execution_count": 35,
     "metadata": {},
     "output_type": "execute_result"
    }
   ],
   "source": [
    "all_trip_duplicate = trip_info[trip_info.duplicated(keep=False)]\n",
    "\n",
    "all_trip_duplicate"
   ]
  },
  {
   "cell_type": "markdown",
   "id": "32f325fd",
   "metadata": {},
   "source": [
    "#### there are duplicates in start_ts, probably because multiple people get rides at the same time on the same day. there are two unique weather conditions which are good and bad. there are duplicate duration times do to the fact that trips can take the same amount of time"
   ]
  },
  {
   "cell_type": "markdown",
   "id": "f72a84b1",
   "metadata": {},
   "source": [
    "# the datasets have been cleaned up, checked and removed of duplicates or null values"
   ]
  },
  {
   "cell_type": "markdown",
   "id": "769c71f6",
   "metadata": {},
   "source": [
    "<div class=\"alert alert-block alert-success\">\n",
    "<b>Reviewer's comment</b> <a class=\"tocSkip\"></a>\n",
    "\n",
    "Well done, we have our datasets! \n",
    "</div>\n",
    "\n",
    "<div class=\"alert alert-block alert-danger\">\n",
    "<s><b>Reviewer's comment</b> <a class=\"tocSkip\"></a>\n",
    "\n",
    "Please check missing values and duplicates in our datasets. Also we should add a conclusion for this part.\n",
    "</div>"
   ]
  },
  {
   "cell_type": "markdown",
   "id": "dfd9e335",
   "metadata": {},
   "source": [
    "<div class=\"alert alert-block alert-info\">\n",
    "fixed with headings, checked for missing values and duplicates and added a conclusion</div>"
   ]
  },
  {
   "cell_type": "markdown",
   "id": "13360de8",
   "metadata": {},
   "source": [
    "<div class=\"alert alert-block alert-danger\">\n",
    "<s><b>Reviewer's comment. V.2.</b> <a class=\"tocSkip\"></a>\n",
    "\n",
    "We have a special code for checking missing values and duplicates. Please use it.</div>"
   ]
  },
  {
   "cell_type": "markdown",
   "id": "1c23a014",
   "metadata": {},
   "source": [
    "<div class=\"alert alert-block alert-info\">\n",
    "used the special code for checking missing values and duplicates</div>"
   ]
  },
  {
   "cell_type": "markdown",
   "id": "2ac5fc6a",
   "metadata": {},
   "source": [
    "<div class=\"alert alert-block alert-success\">\n",
    "<b>Reviewer's comment. V.2.</b> <a class=\"tocSkip\"></a>\n",
    "\n",
    "Well done!</div>"
   ]
  },
  {
   "cell_type": "markdown",
   "id": "13bf91d7",
   "metadata": {},
   "source": [
    "# Analizing the datasets"
   ]
  },
  {
   "cell_type": "markdown",
   "id": "de84aef4",
   "metadata": {},
   "source": [
    "## identifying the top 10 neighborhoods in terms of drop-offs"
   ]
  },
  {
   "cell_type": "markdown",
   "id": "8c02f01a",
   "metadata": {},
   "source": [
    "### taking the top 10 dropoff locations"
   ]
  },
  {
   "cell_type": "code",
   "execution_count": 36,
   "id": "7fea8fad",
   "metadata": {},
   "outputs": [
    {
     "data": {
      "text/html": [
       "<div>\n",
       "<style scoped>\n",
       "    .dataframe tbody tr th:only-of-type {\n",
       "        vertical-align: middle;\n",
       "    }\n",
       "\n",
       "    .dataframe tbody tr th {\n",
       "        vertical-align: top;\n",
       "    }\n",
       "\n",
       "    .dataframe thead th {\n",
       "        text-align: right;\n",
       "    }\n",
       "</style>\n",
       "<table border=\"1\" class=\"dataframe\">\n",
       "  <thead>\n",
       "    <tr style=\"text-align: right;\">\n",
       "      <th></th>\n",
       "      <th>dropoff_location_name</th>\n",
       "      <th>average_trips</th>\n",
       "    </tr>\n",
       "  </thead>\n",
       "  <tbody>\n",
       "    <tr>\n",
       "      <th>0</th>\n",
       "      <td>loop</td>\n",
       "      <td>10728</td>\n",
       "    </tr>\n",
       "    <tr>\n",
       "      <th>1</th>\n",
       "      <td>river north</td>\n",
       "      <td>9524</td>\n",
       "    </tr>\n",
       "    <tr>\n",
       "      <th>2</th>\n",
       "      <td>streeterville</td>\n",
       "      <td>6665</td>\n",
       "    </tr>\n",
       "    <tr>\n",
       "      <th>3</th>\n",
       "      <td>west loop</td>\n",
       "      <td>5164</td>\n",
       "    </tr>\n",
       "    <tr>\n",
       "      <th>4</th>\n",
       "      <td>o'hare</td>\n",
       "      <td>2547</td>\n",
       "    </tr>\n",
       "    <tr>\n",
       "      <th>5</th>\n",
       "      <td>lake view</td>\n",
       "      <td>2421</td>\n",
       "    </tr>\n",
       "    <tr>\n",
       "      <th>6</th>\n",
       "      <td>grant park</td>\n",
       "      <td>2069</td>\n",
       "    </tr>\n",
       "    <tr>\n",
       "      <th>7</th>\n",
       "      <td>museum campus</td>\n",
       "      <td>1510</td>\n",
       "    </tr>\n",
       "    <tr>\n",
       "      <th>8</th>\n",
       "      <td>gold coast</td>\n",
       "      <td>1365</td>\n",
       "    </tr>\n",
       "    <tr>\n",
       "      <th>9</th>\n",
       "      <td>sheffield &amp; depaul</td>\n",
       "      <td>1260</td>\n",
       "    </tr>\n",
       "  </tbody>\n",
       "</table>\n",
       "</div>"
      ],
      "text/plain": [
       "  dropoff_location_name  average_trips\n",
       "0                  loop          10728\n",
       "1           river north           9524\n",
       "2         streeterville           6665\n",
       "3             west loop           5164\n",
       "4                o'hare           2547\n",
       "5             lake view           2421\n",
       "6            grant park           2069\n",
       "7         museum campus           1510\n",
       "8            gold coast           1365\n",
       "9    sheffield & depaul           1260"
      ]
     },
     "execution_count": 36,
     "metadata": {},
     "output_type": "execute_result"
    }
   ],
   "source": [
    "dropoff.head(10)"
   ]
  },
  {
   "cell_type": "code",
   "execution_count": 37,
   "id": "a58f153b",
   "metadata": {},
   "outputs": [],
   "source": [
    "dropoff_top = dropoff.head(10)"
   ]
  },
  {
   "cell_type": "markdown",
   "id": "1ba7f1c8",
   "metadata": {},
   "source": [
    "#### plotting a bar chart of the average trips by location"
   ]
  },
  {
   "cell_type": "code",
   "execution_count": 38,
   "id": "fbad8dd0",
   "metadata": {
    "scrolled": true
   },
   "outputs": [
    {
     "data": {
      "image/png": "[encoded data removed]",
      "text/plain": [
       "<Figure size 720x432 with 1 Axes>"
      ]
     },
     "metadata": {
      "needs_background": "light"
     },
     "output_type": "display_data"
    }
   ],
   "source": [
    "plt.figure(figsize=(10, 6))\n",
    "plt.bar(dropoff_top[\"dropoff_location_name\"], dropoff_top[\"average_trips\"])\n",
    "plt.xlabel('Dropoff Location Name')\n",
    "plt.ylabel('Average Trips')\n",
    "plt.xticks(rotation=45)\n",
    "plt.title('Average Trips by Dropoff Location')\n",
    "\n",
    "\n",
    "plt.show()"
   ]
  },
  {
   "cell_type": "markdown",
   "id": "0f6cb4cb",
   "metadata": {},
   "source": [
    "#### the top four locations have many more trips taken to there than the last 6 top locations. the top location has four times the amount of trips taken there as the 5th top location. and the fourth location has about double the 5th. "
   ]
  },
  {
   "cell_type": "markdown",
   "id": "d20b242f",
   "metadata": {},
   "source": [
    "<div class=\"alert alert-block alert-success\">\n",
    "<b>Reviewer's comment</b> <a class=\"tocSkip\"></a>\n",
    "    \n",
    "Perhaps, those neighborhoods are in city center or they have some popular places. :)\n",
    "\n",
    "</div>"
   ]
  },
  {
   "cell_type": "markdown",
   "id": "c2cd5858",
   "metadata": {},
   "source": [
    "### finding the top 10 companies"
   ]
  },
  {
   "cell_type": "code",
   "execution_count": 39,
   "id": "47d07697",
   "metadata": {},
   "outputs": [
    {
     "data": {
      "text/html": [
       "<div>\n",
       "<style scoped>\n",
       "    .dataframe tbody tr th:only-of-type {\n",
       "        vertical-align: middle;\n",
       "    }\n",
       "\n",
       "    .dataframe tbody tr th {\n",
       "        vertical-align: top;\n",
       "    }\n",
       "\n",
       "    .dataframe thead th {\n",
       "        text-align: right;\n",
       "    }\n",
       "</style>\n",
       "<table border=\"1\" class=\"dataframe\">\n",
       "  <thead>\n",
       "    <tr style=\"text-align: right;\">\n",
       "      <th></th>\n",
       "      <th>company_name</th>\n",
       "      <th>trips_amount</th>\n",
       "    </tr>\n",
       "  </thead>\n",
       "  <tbody>\n",
       "    <tr>\n",
       "      <th>0</th>\n",
       "      <td>flash cab</td>\n",
       "      <td>19558</td>\n",
       "    </tr>\n",
       "    <tr>\n",
       "      <th>1</th>\n",
       "      <td>taxi affiliation services</td>\n",
       "      <td>11422</td>\n",
       "    </tr>\n",
       "    <tr>\n",
       "      <th>2</th>\n",
       "      <td>medallion leasing</td>\n",
       "      <td>10367</td>\n",
       "    </tr>\n",
       "    <tr>\n",
       "      <th>3</th>\n",
       "      <td>yellow cab</td>\n",
       "      <td>9888</td>\n",
       "    </tr>\n",
       "    <tr>\n",
       "      <th>4</th>\n",
       "      <td>taxi affiliation service yellow</td>\n",
       "      <td>9299</td>\n",
       "    </tr>\n",
       "    <tr>\n",
       "      <th>5</th>\n",
       "      <td>chicago carriage cab corp</td>\n",
       "      <td>9181</td>\n",
       "    </tr>\n",
       "    <tr>\n",
       "      <th>6</th>\n",
       "      <td>city service</td>\n",
       "      <td>8448</td>\n",
       "    </tr>\n",
       "    <tr>\n",
       "      <th>7</th>\n",
       "      <td>sun taxi</td>\n",
       "      <td>7701</td>\n",
       "    </tr>\n",
       "    <tr>\n",
       "      <th>8</th>\n",
       "      <td>star north management llc</td>\n",
       "      <td>7455</td>\n",
       "    </tr>\n",
       "    <tr>\n",
       "      <th>9</th>\n",
       "      <td>blue ribbon taxi association inc.</td>\n",
       "      <td>5953</td>\n",
       "    </tr>\n",
       "  </tbody>\n",
       "</table>\n",
       "</div>"
      ],
      "text/plain": [
       "                        company_name  trips_amount\n",
       "0                          flash cab         19558\n",
       "1          taxi affiliation services         11422\n",
       "2                  medallion leasing         10367\n",
       "3                         yellow cab          9888\n",
       "4    taxi affiliation service yellow          9299\n",
       "5          chicago carriage cab corp          9181\n",
       "6                       city service          8448\n",
       "7                           sun taxi          7701\n",
       "8          star north management llc          7455\n",
       "9  blue ribbon taxi association inc.          5953"
      ]
     },
     "execution_count": 39,
     "metadata": {},
     "output_type": "execute_result"
    }
   ],
   "source": [
    "company_name.head(10)"
   ]
  },
  {
   "cell_type": "code",
   "execution_count": 40,
   "id": "972f604d",
   "metadata": {},
   "outputs": [],
   "source": [
    "company_top = company_name.head(10)"
   ]
  },
  {
   "cell_type": "markdown",
   "id": "7ccb56e2",
   "metadata": {},
   "source": [
    "#### making a bar chart of the number of trips by company"
   ]
  },
  {
   "cell_type": "code",
   "execution_count": 41,
   "id": "66fc7a7a",
   "metadata": {},
   "outputs": [
    {
     "data": {
      "image/png": "[encoded data removed]",
      "text/plain": [
       "<Figure size 864x432 with 1 Axes>"
      ]
     },
     "metadata": {
      "needs_background": "light"
     },
     "output_type": "display_data"
    }
   ],
   "source": [
    "plt.figure(figsize=(12, 6))\n",
    "plt.bar(company_top[\"company_name\"], company_top[\"trips_amount\"])\n",
    "plt.xlabel('Company Name')\n",
    "plt.ylabel('Number of Trips')\n",
    "plt.xticks(rotation=45, ha='right', fontsize=10)\n",
    "plt.title('Number of Trips by Company')\n",
    "\n",
    "\n",
    "plt.show()"
   ]
  },
  {
   "cell_type": "markdown",
   "id": "df523907",
   "metadata": {},
   "source": [
    "#### flash cab almost has double than the next leading company and almost 4 times as much as the 10th company. this could be due to the fact that their name indicates that they truly are a taxi cab service and they are fast. in second and third one may not know that they give or offer rides"
   ]
  },
  {
   "cell_type": "markdown",
   "id": "257b391d",
   "metadata": {},
   "source": [
    "<div class=\"alert alert-block alert-success\">\n",
    "<b>Reviewer's comment</b> <a class=\"tocSkip\"></a>\n",
    "    \n",
    "Very good! Thank you for sorted values for graph. It makes it more understandble.\n",
    "    \n",
    "Yes, flash cab is a best here. Perhaps, because of Flash or number of trips. :)\n",
    "</div>\n",
    "\n",
    "<div class=\"alert alert-block alert-danger\">\n",
    "<s><b>Reviewer's comment</b> <a class=\"tocSkip\"></a>\n",
    "\n",
    "Please add details about graph. What do you think about other companies?\n",
    "</div>"
   ]
  },
  {
   "cell_type": "markdown",
   "id": "d1c55f93",
   "metadata": {},
   "source": [
    "<div class=\"alert alert-block alert-info\">\n",
    "fixed with details. am i supposed to do research into the other companies so i can offer what i think about them better?</div>"
   ]
  },
  {
   "cell_type": "markdown",
   "id": "3ae8e70d",
   "metadata": {},
   "source": [
    "<div class=\"alert alert-block alert-success\">\n",
    "<b>Reviewer's comment. V.2.</b> <a class=\"tocSkip\"></a>\n",
    "\n",
    "Great!</div>"
   ]
  },
  {
   "cell_type": "markdown",
   "id": "040b5430",
   "metadata": {},
   "source": [
    "## Testing time it takes to get to airport on a rainy saturday vs not a rainy day from Loop"
   ]
  },
  {
   "cell_type": "markdown",
   "id": "68138a89",
   "metadata": {},
   "source": [
    "### trip_info dataset"
   ]
  },
  {
   "cell_type": "code",
   "execution_count": 42,
   "id": "a43bdcd0",
   "metadata": {},
   "outputs": [
    {
     "data": {
      "text/html": [
       "<div>\n",
       "<style scoped>\n",
       "    .dataframe tbody tr th:only-of-type {\n",
       "        vertical-align: middle;\n",
       "    }\n",
       "\n",
       "    .dataframe tbody tr th {\n",
       "        vertical-align: top;\n",
       "    }\n",
       "\n",
       "    .dataframe thead th {\n",
       "        text-align: right;\n",
       "    }\n",
       "</style>\n",
       "<table border=\"1\" class=\"dataframe\">\n",
       "  <thead>\n",
       "    <tr style=\"text-align: right;\">\n",
       "      <th></th>\n",
       "      <th>start_ts</th>\n",
       "      <th>weather_conditions</th>\n",
       "      <th>duration_minutes</th>\n",
       "    </tr>\n",
       "  </thead>\n",
       "  <tbody>\n",
       "    <tr>\n",
       "      <th>0</th>\n",
       "      <td>2017-11-25 16:00:00</td>\n",
       "      <td>Good</td>\n",
       "      <td>40.166667</td>\n",
       "    </tr>\n",
       "    <tr>\n",
       "      <th>1</th>\n",
       "      <td>2017-11-25 14:00:00</td>\n",
       "      <td>Good</td>\n",
       "      <td>32.000000</td>\n",
       "    </tr>\n",
       "    <tr>\n",
       "      <th>2</th>\n",
       "      <td>2017-11-25 12:00:00</td>\n",
       "      <td>Good</td>\n",
       "      <td>25.716667</td>\n",
       "    </tr>\n",
       "    <tr>\n",
       "      <th>3</th>\n",
       "      <td>2017-11-04 10:00:00</td>\n",
       "      <td>Good</td>\n",
       "      <td>41.866667</td>\n",
       "    </tr>\n",
       "    <tr>\n",
       "      <th>4</th>\n",
       "      <td>2017-11-11 07:00:00</td>\n",
       "      <td>Good</td>\n",
       "      <td>24.000000</td>\n",
       "    </tr>\n",
       "    <tr>\n",
       "      <th>...</th>\n",
       "      <td>...</td>\n",
       "      <td>...</td>\n",
       "      <td>...</td>\n",
       "    </tr>\n",
       "    <tr>\n",
       "      <th>1062</th>\n",
       "      <td>2017-11-11 06:00:00</td>\n",
       "      <td>Good</td>\n",
       "      <td>25.000000</td>\n",
       "    </tr>\n",
       "    <tr>\n",
       "      <th>1064</th>\n",
       "      <td>2017-11-11 10:00:00</td>\n",
       "      <td>Good</td>\n",
       "      <td>21.966667</td>\n",
       "    </tr>\n",
       "    <tr>\n",
       "      <th>1065</th>\n",
       "      <td>2017-11-11 13:00:00</td>\n",
       "      <td>Good</td>\n",
       "      <td>35.000000</td>\n",
       "    </tr>\n",
       "    <tr>\n",
       "      <th>1066</th>\n",
       "      <td>2017-11-11 08:00:00</td>\n",
       "      <td>Good</td>\n",
       "      <td>23.000000</td>\n",
       "    </tr>\n",
       "    <tr>\n",
       "      <th>1067</th>\n",
       "      <td>2017-11-04 16:00:00</td>\n",
       "      <td>Bad</td>\n",
       "      <td>47.233333</td>\n",
       "    </tr>\n",
       "  </tbody>\n",
       "</table>\n",
       "<p>1062 rows × 3 columns</p>\n",
       "</div>"
      ],
      "text/plain": [
       "                start_ts weather_conditions  duration_minutes\n",
       "0    2017-11-25 16:00:00               Good         40.166667\n",
       "1    2017-11-25 14:00:00               Good         32.000000\n",
       "2    2017-11-25 12:00:00               Good         25.716667\n",
       "3    2017-11-04 10:00:00               Good         41.866667\n",
       "4    2017-11-11 07:00:00               Good         24.000000\n",
       "...                  ...                ...               ...\n",
       "1062 2017-11-11 06:00:00               Good         25.000000\n",
       "1064 2017-11-11 10:00:00               Good         21.966667\n",
       "1065 2017-11-11 13:00:00               Good         35.000000\n",
       "1066 2017-11-11 08:00:00               Good         23.000000\n",
       "1067 2017-11-04 16:00:00                Bad         47.233333\n",
       "\n",
       "[1062 rows x 3 columns]"
      ]
     },
     "execution_count": 42,
     "metadata": {},
     "output_type": "execute_result"
    }
   ],
   "source": [
    "trip_info"
   ]
  },
  {
   "cell_type": "markdown",
   "id": "1d1ce997",
   "metadata": {},
   "source": [
    "#### taking the average amount of minutes for all rides taken from loop to airport"
   ]
  },
  {
   "cell_type": "code",
   "execution_count": 43,
   "id": "9ed5505e",
   "metadata": {},
   "outputs": [],
   "source": [
    "loop_avg_min = trip_info['duration_minutes'].mean()\n",
    "loop_min_all = trip_info['duration_minutes']"
   ]
  },
  {
   "cell_type": "code",
   "execution_count": 44,
   "id": "d201ed10",
   "metadata": {},
   "outputs": [
    {
     "data": {
      "text/plain": [
       "34.72393283113622"
      ]
     },
     "execution_count": 44,
     "metadata": {},
     "output_type": "execute_result"
    }
   ],
   "source": [
    "loop_avg_min"
   ]
  },
  {
   "cell_type": "markdown",
   "id": "763173d2",
   "metadata": {},
   "source": [
    "#### taking an average from bad weather saturdays from loop to airport"
   ]
  },
  {
   "cell_type": "code",
   "execution_count": 45,
   "id": "56f233da",
   "metadata": {},
   "outputs": [
    {
     "data": {
      "text/plain": [
       "40.45342592592593"
      ]
     },
     "execution_count": 45,
     "metadata": {},
     "output_type": "execute_result"
    }
   ],
   "source": [
    "bad_weather_trips = trip_info[trip_info['weather_conditions'] == 'Bad']\n",
    "bad_weather_sat = bad_weather_trips[bad_weather_trips['start_ts'].dt.dayofweek == 5]\n",
    "avg_min_bad_sat = bad_weather_sat['duration_minutes'].mean()\n",
    "avg_min_bad_sat"
   ]
  },
  {
   "cell_type": "code",
   "execution_count": 46,
   "id": "bdf2549c",
   "metadata": {},
   "outputs": [
    {
     "data": {
      "text/plain": [
       "(5.871304350458141, 1.3678282221943923e-08)"
      ]
     },
     "execution_count": 46,
     "metadata": {},
     "output_type": "execute_result"
    }
   ],
   "source": [
    "t_stat, p_value = st.ttest_ind(bad_weather_sat['duration_minutes'], trip_info['duration_minutes'], equal_var=False)\n",
    "t_stat, p_value"
   ]
  },
  {
   "cell_type": "markdown",
   "id": "188bfe9a",
   "metadata": {},
   "source": [
    "#### The t_stat offers a difference of almost 6 minutes which is a relatively significant amount. if you were planning on being early to something, 6 minutes would be a lot of difference"
   ]
  },
  {
   "cell_type": "code",
   "execution_count": 47,
   "id": "be0d3f4e",
   "metadata": {},
   "outputs": [
    {
     "data": {
      "text/plain": [
       "True"
      ]
     },
     "execution_count": 47,
     "metadata": {},
     "output_type": "execute_result"
    }
   ],
   "source": [
    "alpha = .05\n",
    "p_value < alpha"
   ]
  },
  {
   "cell_type": "markdown",
   "id": "eaf9ef81",
   "metadata": {},
   "source": [
    "#### the p_value being lower than the alpha of .05 means we can reject the null hypothesis and conclude that there is a significant difference in the average time durations between all days and just rainy saturdays. I used an alpha of .05 because it is a normal amount for this sort of test and does not need to be super strict. "
   ]
  },
  {
   "cell_type": "markdown",
   "id": "290502ac",
   "metadata": {},
   "source": [
    "<div class=\"alert alert-block alert-success\">\n",
    "<b>Reviewer's comment</b> <a class=\"tocSkip\"></a>\n",
    "\n",
    "\n",
    "Great, we choosed correct alpha and test.\n",
    "    \n",
    "And yes, you are right. The average duration of rides on sunny and rainy days differs, and the duration of rides on bad weather days is longer than on good weather days.\n",
    "    \n",
    "Very good that we check it by test. It gives us the total picture.\n",
    "</div>"
   ]
  },
  {
   "cell_type": "markdown",
   "id": "8a328dc0",
   "metadata": {},
   "source": [
    "## Conclusion "
   ]
  },
  {
   "cell_type": "markdown",
   "id": "b35b0778",
   "metadata": {},
   "source": [
    "#### This project used three datasets. I first opened the datasets, cleaned them up, made sure that they had no duplicates or missing values, and then began my analysis. Note that I did not drop duplicates from the trip_info due to the fact that multiple trips can take place on the same day and time. I found that Flash cab is the best taxi service, loop, river north, streeterville, and west loop are the busiest routes, and it takes about 6 minutes longer to get to the airport on a rainy saturday than any other day of the week. This analysis shows the busiest routes which will help companies identify where to meet demand. "
   ]
  },
  {
   "cell_type": "markdown",
   "id": "eb677e18",
   "metadata": {},
   "source": [
    "<div class=\"alert alert-block alert-danger\">\n",
    "<b>Reviewer's comment</b> <a class=\"tocSkip\"></a>\n",
    "\n",
    "Please a detailed conclusion for the whole project.</div>"
   ]
  },
  {
   "cell_type": "markdown",
   "id": "f69aef88",
   "metadata": {},
   "source": [
    "<div class=\"alert alert-block alert-danger\">\n",
    "<b>Reviewer's comment. V.2.</b> <a class=\"tocSkip\"></a>\n",
    "    \n",
    "    \n",
    "We need details from the beginning. Such a short sentence is not a final conclusion for the whole project. Please add information: what we have, what we changed, why, what we found, etc. </div>"
   ]
  },
  {
   "cell_type": "markdown",
   "id": "8672d0d8",
   "metadata": {},
   "source": [
    "<div class=\"alert alert-block alert-info\">\n",
    "expanded on conclusion</div>"
   ]
  },
  {
   "cell_type": "markdown",
   "id": "ce208f46",
   "metadata": {},
   "source": [
    "<div class=\"alert alert-block alert-warning\">\n",
    "<b>Reviewer's comment. V.2.</b> <a class=\"tocSkip\"></a>\n",
    "    \n",
    "What kind of datasets? What kind of data is there? Why did we remove or change something? What questions did we consider? What answers did you receive? Why? What does this give us? What recommendations can we give? Please remember to include details in your next project. </div>"
   ]
  }
 ],
 "metadata": {
  "kernelspec": {
   "display_name": "Python 3 (ipykernel)",
   "language": "python",
   "name": "python3"
  },
  "language_info": {
   "codemirror_mode": {
    "name": "ipython",
    "version": 3
   },
   "file_extension": ".py",
   "mimetype": "text/x-python",
   "name": "python",
   "nbconvert_exporter": "python",
   "pygments_lexer": "ipython3",
   "version": "3.9.19"
  },
  "toc": {
   "base_numbering": 1,
   "nav_menu": {},
   "number_sections": true,
   "sideBar": true,
   "skip_h1_title": true,
   "title_cell": "Table of Contents",
   "title_sidebar": "Contents",
   "toc_cell": false,
   "toc_position": {},
   "toc_section_display": true,
   "toc_window_display": false
  }
 },
 "nbformat": 4,
 "nbformat_minor": 5
}
